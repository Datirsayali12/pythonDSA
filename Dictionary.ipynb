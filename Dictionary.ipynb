{
 "cells": [
  {
   "cell_type": "markdown",
   "id": "8837c4a9",
   "metadata": {},
   "source": [
    "# creating dictionary\n",
    "#way1 \n",
    "d1=dict()\n",
    "d2={}\n",
    "print(d1)\n",
    "print(d2)"
   ]
  },
  {
   "cell_type": "code",
   "execution_count": null,
   "id": "0c33704c",
   "metadata": {},
   "outputs": [],
   "source": [
    "#time complexity to creating O(1)"
   ]
  },
  {
   "cell_type": "code",
   "execution_count": 4,
   "id": "2f9d95b3",
   "metadata": {},
   "outputs": [],
   "source": [
    "#way 2\n",
    "eng=dict(one='uno',two='t',three='yui')#here kay are not string"
   ]
  },
  {
   "cell_type": "code",
   "execution_count": 5,
   "id": "affe4801",
   "metadata": {},
   "outputs": [
    {
     "data": {
      "text/plain": [
       "{'one': 'uno', 'two': 't', 'three': 'yui'}"
      ]
     },
     "execution_count": 5,
     "metadata": {},
     "output_type": "execute_result"
    }
   ],
   "source": [
    "eng"
   ]
  },
  {
   "cell_type": "code",
   "execution_count": 6,
   "id": "a11d9a02",
   "metadata": {},
   "outputs": [],
   "source": [
    "d1={'A':100,'B':200,'C':400}"
   ]
  },
  {
   "cell_type": "code",
   "execution_count": 7,
   "id": "a26bcca0",
   "metadata": {},
   "outputs": [
    {
     "data": {
      "text/plain": [
       "{'A': 100, 'B': 200, 'C': 400}"
      ]
     },
     "execution_count": 7,
     "metadata": {},
     "output_type": "execute_result"
    }
   ],
   "source": [
    "d1"
   ]
  },
  {
   "cell_type": "code",
   "execution_count": null,
   "id": "bf72c00c",
   "metadata": {},
   "outputs": [],
   "source": [
    "#time complexity O(n) for inserting dictionary"
   ]
  },
  {
   "cell_type": "code",
   "execution_count": 8,
   "id": "99522de2",
   "metadata": {},
   "outputs": [],
   "source": [
    "#create using the  tuple\n",
    "eng3=[('one','1'),('two','2'),('three','3')]\n",
    "d3=dict(eng3)"
   ]
  },
  {
   "cell_type": "code",
   "execution_count": 9,
   "id": "164ecf04",
   "metadata": {},
   "outputs": [
    {
     "data": {
      "text/plain": [
       "{'one': '1', 'two': '2', 'three': '3'}"
      ]
     },
     "execution_count": 9,
     "metadata": {},
     "output_type": "execute_result"
    }
   ],
   "source": [
    "d3"
   ]
  },
  {
   "cell_type": "code",
   "execution_count": 17,
   "id": "aefb7652",
   "metadata": {},
   "outputs": [
    {
     "name": "stdout",
     "output_type": "stream",
     "text": [
      "0 a\n"
     ]
    }
   ],
   "source": [
    "#traverse through dictionary\n",
    "def traverse(d1):\n",
    "    for i,v in enumerate(d1):#enumreate is used for any iterable like dictionary,list\n",
    "        print(i,v)\n",
    "traverse({'a':100})"
   ]
  },
  {
   "cell_type": "code",
   "execution_count": 20,
   "id": "eb69c634",
   "metadata": {},
   "outputs": [
    {
     "name": "stdout",
     "output_type": "stream",
     "text": [
      "a 100\n"
     ]
    }
   ],
   "source": [
    "def traverse(d1):\n",
    "    for i in d1:#enumreate is used for any iterable like dictionary,list\n",
    "        print(i,d1[i])\n",
    "traverse({'a':100})"
   ]
  },
  {
   "cell_type": "code",
   "execution_count": 23,
   "id": "d2c7b647",
   "metadata": {},
   "outputs": [
    {
     "data": {
      "text/plain": [
       "'true'"
      ]
     },
     "execution_count": 23,
     "metadata": {},
     "output_type": "execute_result"
    }
   ],
   "source": [
    "#searching element in dictionary\n",
    "#linear search\n",
    "ele=200\n",
    "def search(d1):\n",
    "    for i in d1:\n",
    "        if d1[i]==ele:\n",
    "            return 'true'\n",
    "    return -1\n",
    "search(d1)"
   ]
  },
  {
   "cell_type": "code",
   "execution_count": 26,
   "id": "2c6396c6",
   "metadata": {},
   "outputs": [
    {
     "data": {
      "text/plain": [
       "{'a': 500, 'y': 800, 'd': 400}"
      ]
     },
     "execution_count": 26,
     "metadata": {},
     "output_type": "execute_result"
    }
   ],
   "source": [
    "#removing element from dictionary:\n",
    "#1.del,time complexity ,O(1) bcz of hash function\n",
    "d2={'sayali':100,'a':500,'y':800,'d':400}\n",
    "del d2['sayali']#time complexity for del is O(1)\n",
    "d2"
   ]
  },
  {
   "cell_type": "code",
   "execution_count": 30,
   "id": "6ad7ede1",
   "metadata": {},
   "outputs": [
    {
     "data": {
      "text/plain": [
       "800"
      ]
     },
     "execution_count": 30,
     "metadata": {},
     "output_type": "execute_result"
    }
   ],
   "source": [
    "#2.by using pop(),time complexity is O(1)\n",
    "e=d2.pop('y')#key need to specified\n",
    "e"
   ]
  },
  {
   "cell_type": "code",
   "execution_count": 31,
   "id": "3803fabf",
   "metadata": {},
   "outputs": [
    {
     "data": {
      "text/plain": [
       "{'d': 400}"
      ]
     },
     "execution_count": 31,
     "metadata": {},
     "output_type": "execute_result"
    }
   ],
   "source": [
    "d2"
   ]
  },
  {
   "cell_type": "code",
   "execution_count": 38,
   "id": "0a14d8b6",
   "metadata": {},
   "outputs": [],
   "source": [
    "d2.pop('r',None)#if key not present it return None"
   ]
  },
  {
   "cell_type": "code",
   "execution_count": 39,
   "id": "5484ac34",
   "metadata": {},
   "outputs": [
    {
     "data": {
      "text/plain": [
       "('d', 400)"
      ]
     },
     "execution_count": 39,
     "metadata": {},
     "output_type": "execute_result"
    }
   ],
   "source": [
    "#popitem :remove key and value,time complexity is O(1)\n",
    "d2.popitem()"
   ]
  },
  {
   "cell_type": "code",
   "execution_count": 40,
   "id": "bc60129d",
   "metadata": {},
   "outputs": [],
   "source": [
    "d3={'a':100,'b':900,'c':300}"
   ]
  },
  {
   "cell_type": "code",
   "execution_count": 41,
   "id": "e9ba22c0",
   "metadata": {},
   "outputs": [],
   "source": [
    "#time complexity for clear is O(n)\n",
    "d3.clear()"
   ]
  },
  {
   "cell_type": "code",
   "execution_count": 42,
   "id": "3aee1798",
   "metadata": {},
   "outputs": [
    {
     "data": {
      "text/plain": [
       "{}"
      ]
     },
     "execution_count": 42,
     "metadata": {},
     "output_type": "execute_result"
    }
   ],
   "source": [
    "d3"
   ]
  },
  {
   "cell_type": "code",
   "execution_count": 46,
   "id": "63f727e6",
   "metadata": {},
   "outputs": [
    {
     "name": "stdout",
     "output_type": "stream",
     "text": [
      "{'a': 100, 'b': 400}\n",
      "{'a': 100, 'b': 400, 's': 900}\n"
     ]
    }
   ],
   "source": [
    "#Dictionary Methods\n",
    "#1.copy()\n",
    "d1={'a':100,'b':400}\n",
    "d2=d1.copy()\n",
    "print(d1)\n",
    "d2['s']=900\n",
    "print(d2)#doesnt reflect original dictionary"
   ]
  },
  {
   "cell_type": "code",
   "execution_count": 52,
   "id": "52e3a10b",
   "metadata": {},
   "outputs": [
    {
     "data": {
      "text/plain": [
       "{1: ['sayali', 'sahil'],\n",
       " 2: ['sayali', 'sahil'],\n",
       " 3: ['sayali', 'sahil'],\n",
       " 4: ['sayali', 'sahil'],\n",
       " 5: ['sayali', 'sahil']}"
      ]
     },
     "execution_count": 52,
     "metadata": {},
     "output_type": "execute_result"
    }
   ],
   "source": [
    "#2.fromkeys:syntax fromkeys(sequance[],value)\n",
    "newdict={}.fromkeys([1,2,3,4,5],['sayali','sahil'])\n",
    "newdict"
   ]
  },
  {
   "cell_type": "code",
   "execution_count": 53,
   "id": "1abbd86f",
   "metadata": {},
   "outputs": [
    {
     "data": {
      "text/plain": [
       "{1: None, 2: None, 3: None}"
      ]
     },
     "execution_count": 53,
     "metadata": {},
     "output_type": "execute_result"
    }
   ],
   "source": [
    "newdict={}.fromkeys([1,2,3])\n",
    "newdict"
   ]
  },
  {
   "cell_type": "code",
   "execution_count": 57,
   "id": "b4dac1d3",
   "metadata": {},
   "outputs": [],
   "source": [
    "#get:return value of  specified key\n",
    "d1={'a':100,'b':200,'c':400,'d':500}"
   ]
  },
  {
   "cell_type": "code",
   "execution_count": 59,
   "id": "769768d2",
   "metadata": {},
   "outputs": [
    {
     "data": {
      "text/plain": [
       "100"
      ]
     },
     "execution_count": 59,
     "metadata": {},
     "output_type": "execute_result"
    }
   ],
   "source": [
    "d1.get('a',101)"
   ]
  },
  {
   "cell_type": "code",
   "execution_count": 60,
   "id": "b44381cc",
   "metadata": {},
   "outputs": [
    {
     "data": {
      "text/plain": [
       "101"
      ]
     },
     "execution_count": 60,
     "metadata": {},
     "output_type": "execute_result"
    }
   ],
   "source": [
    "d1.get('e',101)#if key not exist it return specified value"
   ]
  },
  {
   "cell_type": "code",
   "execution_count": 61,
   "id": "8f77dbbf",
   "metadata": {},
   "outputs": [
    {
     "name": "stdout",
     "output_type": "stream",
     "text": [
      "dict_items([('a', 100), ('b', 200), ('c', 400), ('d', 500)])\n"
     ]
    }
   ],
   "source": [
    "#items():return object that contains key value pair in dictionary\n",
    "print(d1.items())\n"
   ]
  },
  {
   "cell_type": "code",
   "execution_count": 62,
   "id": "fc77d587",
   "metadata": {},
   "outputs": [
    {
     "data": {
      "text/plain": [
       "dict_keys(['a', 'b', 'c', 'd'])"
      ]
     },
     "execution_count": 62,
     "metadata": {},
     "output_type": "execute_result"
    }
   ],
   "source": [
    "#keys():return keys in dictionary\n",
    "d1.keys()"
   ]
  },
  {
   "cell_type": "code",
   "execution_count": 63,
   "id": "a22425e5",
   "metadata": {},
   "outputs": [
    {
     "data": {
      "text/plain": [
       "100"
      ]
     },
     "execution_count": 63,
     "metadata": {},
     "output_type": "execute_result"
    }
   ],
   "source": [
    "#setdefautl:return value of key  if key is present if not present than set specified key with value\n",
    "d1.setdefault('a',101)#return value of a "
   ]
  },
  {
   "cell_type": "code",
   "execution_count": 66,
   "id": "86f07e0a",
   "metadata": {},
   "outputs": [
    {
     "data": {
      "text/plain": [
       "1002"
      ]
     },
     "execution_count": 66,
     "metadata": {},
     "output_type": "execute_result"
    }
   ],
   "source": [
    "d1.setdefault('e',1002)#if key not present set this key with value"
   ]
  },
  {
   "cell_type": "code",
   "execution_count": 67,
   "id": "f3d2350c",
   "metadata": {},
   "outputs": [
    {
     "data": {
      "text/plain": [
       "{'a': 100, 'b': 200, 'c': 400, 'd': 500, 'e': 1002}"
      ]
     },
     "execution_count": 67,
     "metadata": {},
     "output_type": "execute_result"
    }
   ],
   "source": [
    "d1"
   ]
  },
  {
   "cell_type": "code",
   "execution_count": 69,
   "id": "bfcacbb4",
   "metadata": {},
   "outputs": [
    {
     "data": {
      "text/plain": [
       "dict_values([100, 200, 400, 500, 1002])"
      ]
     },
     "execution_count": 69,
     "metadata": {},
     "output_type": "execute_result"
    }
   ],
   "source": [
    "d1.values()#return list contain values"
   ]
  },
  {
   "cell_type": "code",
   "execution_count": 74,
   "id": "8b7ea542",
   "metadata": {},
   "outputs": [
    {
     "name": "stdout",
     "output_type": "stream",
     "text": [
      "{'a': 100, 'b': 200, 'c': 400, 'd': 500, 'e': 1002, 'Y': 100009}\n"
     ]
    }
   ],
   "source": [
    "#update:update dictionary by adding another dictionary to it\n",
    "d={'Y':100009}\n",
    "d1.update(d)\n",
    "d1.update()\n",
    "print(d1)"
   ]
  },
  {
   "cell_type": "markdown",
   "id": "233c66de",
   "metadata": {},
   "source": [
    "# Dictionary operations:"
   ]
  },
  {
   "cell_type": "code",
   "execution_count": 85,
   "id": "e08145d4",
   "metadata": {},
   "outputs": [
    {
     "name": "stdout",
     "output_type": "stream",
     "text": [
      "True\n"
     ]
    }
   ],
   "source": [
    "#check for keys\n",
    "mydict={3:'three',4:\"four\",5:'five',6:'six'}\n",
    "if 4 in mydict:\n",
    "    print('True')\n",
    "else:\n",
    "    print('False')"
   ]
  },
  {
   "cell_type": "code",
   "execution_count": 106,
   "id": "5a47190b",
   "metadata": {},
   "outputs": [
    {
     "name": "stdout",
     "output_type": "stream",
     "text": [
      "True\n"
     ]
    }
   ],
   "source": [
    "mydict={3:'three',4:\"four\",5:'five',6:'six'}\n",
    "print('three' in mydict.values())#check for values"
   ]
  },
  {
   "cell_type": "code",
   "execution_count": 87,
   "id": "c0e15456",
   "metadata": {},
   "outputs": [
    {
     "data": {
      "text/plain": [
       "4"
      ]
     },
     "execution_count": 87,
     "metadata": {},
     "output_type": "execute_result"
    }
   ],
   "source": [
    "len(mydict)"
   ]
  },
  {
   "cell_type": "code",
   "execution_count": 99,
   "id": "cd53c0f9",
   "metadata": {},
   "outputs": [
    {
     "name": "stdout",
     "output_type": "stream",
     "text": [
      "False\n",
      "False\n"
     ]
    }
   ],
   "source": [
    "#all:all keys are non integer,if one of key is not integer(0,flase) return false\n",
    "d3={0:0,'b':600,'c':0}\n",
    "print(all(d3))\n",
    "d3={0:100,False:600}\n",
    "print(all(d3))"
   ]
  },
  {
   "cell_type": "code",
   "execution_count": 103,
   "id": "111ded01",
   "metadata": {},
   "outputs": [
    {
     "name": "stdout",
     "output_type": "stream",
     "text": [
      "True\n"
     ]
    }
   ],
   "source": [
    "#any:1.if all keys are True-True\n",
    "#    2.All keys are False-False\n",
    "#    3.one key is True-True\n",
    "\n",
    "d1={'a':100,'b':200}\n",
    "print(any(d1))"
   ]
  },
  {
   "cell_type": "code",
   "execution_count": 104,
   "id": "d1631747",
   "metadata": {},
   "outputs": [
    {
     "name": "stdout",
     "output_type": "stream",
     "text": [
      "False\n"
     ]
    }
   ],
   "source": [
    "d1={0:100,False:200}\n",
    "print(any(d1))"
   ]
  },
  {
   "cell_type": "code",
   "execution_count": 105,
   "id": "a212dba0",
   "metadata": {},
   "outputs": [
    {
     "name": "stdout",
     "output_type": "stream",
     "text": [
      "True\n"
     ]
    }
   ],
   "source": [
    "d1={0:100,'b':200}\n",
    "print(any(d1))"
   ]
  },
  {
   "cell_type": "code",
   "execution_count": 107,
   "id": "03ee0a22",
   "metadata": {},
   "outputs": [
    {
     "name": "stdout",
     "output_type": "stream",
     "text": [
      "[3, 4, 5, 6]\n"
     ]
    }
   ],
   "source": [
    "#sorted function\n",
    "print(sorted(mydict))"
   ]
  },
  {
   "attachments": {
    "image.png": {
     "image/png": "[encoded data removed]"
    }
   },
   "cell_type": "markdown",
   "id": "19686896",
   "metadata": {},
   "source": [
    "# dictionary comprehenssion:\n",
    "![image.png](attachment:image.png)\n"
   ]
  },
  {
   "cell_type": "code",
   "execution_count": 123,
   "id": "5f9096f7",
   "metadata": {},
   "outputs": [
    {
     "data": {
      "text/plain": [
       "{'mumbai': 29, 'pune': 29, 'sangli': 13}"
      ]
     },
     "execution_count": 123,
     "metadata": {},
     "output_type": "execute_result"
    }
   ],
   "source": [
    "import random\n",
    "city=['mumbai','pune','sangli']\n",
    "new_dict={i:random.randint(10,30) for i in city}\n",
    "new_dict"
   ]
  },
  {
   "cell_type": "code",
   "execution_count": 126,
   "id": "d8ecabe8",
   "metadata": {},
   "outputs": [],
   "source": [
    "import random\n",
    "new1={i:v for i,v in  new_dict.items()  if v>25}"
   ]
  },
  {
   "cell_type": "code",
   "execution_count": 127,
   "id": "3d3da4bf",
   "metadata": {},
   "outputs": [
    {
     "data": {
      "text/plain": [
       "{'mumbai': 29, 'pune': 29}"
      ]
     },
     "execution_count": 127,
     "metadata": {},
     "output_type": "execute_result"
    }
   ],
   "source": [
    "new1"
   ]
  },
  {
   "attachments": {
    "image.png": {
     "image/png": "[encoded data removed]"
    }
   },
   "cell_type": "markdown",
   "id": "f086b4ff",
   "metadata": {},
   "source": [
    "# dictionary vs list\n",
    "![image.png](attachment:image.png)"
   ]
  },
  {
   "cell_type": "code",
   "execution_count": null,
   "id": "c760f614",
   "metadata": {},
   "outputs": [],
   "source": []
  }
 ],
 "metadata": {
  "kernelspec": {
   "display_name": "Python 3 (ipykernel)",
   "language": "python",
   "name": "python3"
  },
  "language_info": {
   "codemirror_mode": {
    "name": "ipython",
    "version": 3
   },
   "file_extension": ".py",
   "mimetype": "text/x-python",
   "name": "python",
   "nbconvert_exporter": "python",
   "pygments_lexer": "ipython3",
   "version": "3.10.9"
  }
 },
 "nbformat": 4,
 "nbformat_minor": 5
}
