{
 "cells": [
  {
   "cell_type": "code",
   "execution_count": 4,
   "id": "a7f768fd",
   "metadata": {},
   "outputs": [
    {
     "name": "stdout",
     "output_type": "stream",
     "text": [
      "Enter number of days:2\n",
      "Enter day 1 :23\n",
      "Enter day 2 :34\n",
      "Average temparature: 28.5\n",
      "Day 1 have above Avg temperature\n"
     ]
    }
   ],
   "source": [
    "#exercise: calculate avg temperature and info which day have more temperature\n",
    "l=[]\n",
    "n=int(input(\"Enter number of days:\"))\n",
    "for i in range(n):\n",
    "    j=int(input(f'Enter day {i+1} :'))\n",
    "    l.append(j)\n",
    "avg=sum(l)/len(l)\n",
    "print(f'Average temparature: {avg}')\n",
    "j=0\n",
    "for i in l:\n",
    "    if i>avg:\n",
    "        j=j+1\n",
    "        print(f'Day {j} have above Avg temperature')"
   ]
  },
  {
   "cell_type": "code",
   "execution_count": 29,
   "id": "ba98e7ef",
   "metadata": {},
   "outputs": [
    {
     "data": {
      "text/plain": [
       "2"
      ]
     },
     "execution_count": 29,
     "metadata": {},
     "output_type": "execute_result"
    }
   ],
   "source": [
    "#missing number\n",
    "def missingNumber(nums):\n",
    "     n=len(nums)\n",
    "     total=n*(n+1)//2\n",
    "     a1=sum(nums)\n",
    "     m=total-a1\n",
    "     return m\n",
    "missingNumber([0,1])"
   ]
  },
  {
   "cell_type": "code",
   "execution_count": 2,
   "id": "48c3f477",
   "metadata": {},
   "outputs": [
    {
     "name": "stdout",
     "output_type": "stream",
     "text": [
      "0 5\n",
      "1 4\n"
     ]
    }
   ],
   "source": [
    "#two sum (3,3)like same pairs not allowed\n",
    "\n",
    "a1=[1,2,3,3,4,5,8]\n",
    "n=6\n",
    "\n",
    "for i in range(len(a1)):\n",
    "    for j in range(i+1,len(a1)):\n",
    "        if a1[i]==a1[j]:\n",
    "            continue\n",
    "        if a1[i]+a1[j]==n:\n",
    "            print(i,j)\n",
    "        "
   ]
  },
  {
   "cell_type": "code",
   "execution_count": 3,
   "id": "7e4ee828",
   "metadata": {},
   "outputs": [
    {
     "data": {
      "text/plain": [
       "[1, 2, 3, 3, 4, 5, 8]"
      ]
     },
     "execution_count": 3,
     "metadata": {},
     "output_type": "execute_result"
    }
   ],
   "source": [
    "a1"
   ]
  },
  {
   "cell_type": "code",
   "execution_count": 8,
   "id": "4d11e17b",
   "metadata": {},
   "outputs": [
    {
     "name": "stdout",
     "output_type": "stream",
     "text": [
      "8\n",
      "40\n"
     ]
    }
   ],
   "source": [
    "max1=0\n",
    "max2=0\n",
    "for i in a1:\n",
    "    if max1<i:\n",
    "        max1=i\n",
    "print(max1)\n",
    "\n",
    "for i in a1:\n",
    "    if max2<i and i!=max1:\n",
    "        max2=i\n",
    "print(max2*max1)\n",
    "        "
   ]
  },
  {
   "cell_type": "code",
   "execution_count": 13,
   "id": "1e8175d8",
   "metadata": {},
   "outputs": [
    {
     "name": "stdout",
     "output_type": "stream",
     "text": [
      "2\n",
      "2 3\n"
     ]
    }
   ],
   "source": [
    "lst = [1, 2, 3, 4]\n",
    "n=len(lst)//2\n",
    "print(n)\n",
    "print(lst[n-1],lst[n])"
   ]
  },
  {
   "cell_type": "code",
   "execution_count": 17,
   "id": "36982e58",
   "metadata": {},
   "outputs": [
    {
     "name": "stdout",
     "output_type": "stream",
     "text": [
      "[90, 87, 86, 85, 85, 85, 84, 84, 83, 45, 23, 2, 1, 0]\n",
      "90 87\n"
     ]
    }
   ],
   "source": [
    "\n",
    "my_list = [84,85,86,87,85,90,85,83,23,45,84,1,2,0]\n",
    "my_list.sort(reverse=True)\n",
    "print(my_list)\n",
    "print(my_list[0],my_list[1])\n"
   ]
  },
  {
   "cell_type": "code",
   "execution_count": 18,
   "id": "93ce8c9f",
   "metadata": {},
   "outputs": [
    {
     "name": "stdout",
     "output_type": "stream",
     "text": [
      "[1, 2, 3, 4, 5]\n"
     ]
    }
   ],
   "source": [
    "#remove dupliactes\n",
    "arr=[1,1,2,3,3,4,5]\n",
    "l2=[]\n",
    "for i in arr:\n",
    "    if i not in l2:\n",
    "        l2.append(i)\n",
    "print(l2)"
   ]
  },
  {
   "cell_type": "code",
   "execution_count": 6,
   "id": "3c8b7c18",
   "metadata": {},
   "outputs": [],
   "source": [
    "#return index of element that give sum=7\n",
    "l1=[2, 4, 3, 5, 6, -2, 4, 7, 8, 9]\n",
    "l=[]\n",
    "sum=7\n",
    "for i in range(len(l1)):\n",
    "    for j in range(i+1,len(l1)):\n",
    "        if l1[i]+l1[j]==sum:\n",
    "            l.extend([str(l1[i])+'+'+str(l1[j])])"
   ]
  },
  {
   "cell_type": "code",
   "execution_count": 7,
   "id": "5da27fd5",
   "metadata": {},
   "outputs": [
    {
     "data": {
      "text/plain": [
       "['2+5', '4+3', '3+4', '-2+9']"
      ]
     },
     "execution_count": 7,
     "metadata": {},
     "output_type": "execute_result"
    }
   ],
   "source": [
    "l"
   ]
  },
  {
   "cell_type": "code",
   "execution_count": 9,
   "id": "c566fcfd",
   "metadata": {},
   "outputs": [
    {
     "name": "stdout",
     "output_type": "stream",
     "text": [
      "true\n"
     ]
    }
   ],
   "source": [
    "#check if the  the list contains more than one time element tahn return True else return false\n",
    "nums = [1,2,3,1]\n",
    "sum=0\n",
    "for i in nums:\n",
    "    if nums.count(i)>1:\n",
    "        sum=sum+1  \n",
    "if sum>0:\n",
    "    print('true')\n",
    "else:\n",
    "    print('false')"
   ]
  },
  {
   "cell_type": "code",
   "execution_count": null,
   "id": "84d1718f",
   "metadata": {},
   "outputs": [],
   "source": [
    "#check two  list or string permuattion to each other or not"
   ]
  },
  {
   "cell_type": "code",
   "execution_count": 11,
   "id": "30c98555",
   "metadata": {},
   "outputs": [
    {
     "name": "stdout",
     "output_type": "stream",
     "text": [
      "True\n"
     ]
    }
   ],
   "source": [
    "l1=[1,2,3,4]\n",
    "l2=[3,1,2,4]\n",
    "\n",
    "if len(l1)!=len(l2):\n",
    "    print('not')\n",
    "    \n",
    "l1.sort()\n",
    "l2.sort()\n",
    "\n",
    "if l1==l2:\n",
    "    print(True)\n",
    "else:\n",
    "    print(False)"
   ]
  },
  {
   "cell_type": "code",
   "execution_count": 8,
   "id": "8121d415",
   "metadata": {},
   "outputs": [
    {
     "name": "stdout",
     "output_type": "stream",
     "text": [
      "True\n"
     ]
    }
   ],
   "source": [
    "#string permutation\n",
    "\n",
    "s='sayali'\n",
    "s1='syaali'\n",
    "\n",
    "if len(s1)!=len(s1):\n",
    "    print('Not')\n",
    "    \n",
    "l1=list(s)\n",
    "l2=list(s1)\n",
    "\n",
    "l1.sort()\n",
    "l2.sort()\n",
    "\n",
    "if l1==l2:\n",
    "    print('True')\n",
    "else:\n",
    "    print('False')"
   ]
  },
  {
   "cell_type": "code",
   "execution_count": 3,
   "id": "1c387169",
   "metadata": {},
   "outputs": [
    {
     "name": "stdout",
     "output_type": "stream",
     "text": [
      "[[7, 4, 1], [8, 5, 4], [9, 8, 7]]\n"
     ]
    }
   ],
   "source": [
    "\n",
    "matrix = [[1,2,3],[4,5,6],[7,8,9]]\n",
    "for i in range(len(matrix)):\n",
    "    for j in range(i,len(matrix)):\n",
    "        matrix[i][j]=matrix[j][i]\n",
    "for row in matrix: \n",
    "    row.reverse() \n",
    "print(matrix)"
   ]
  },
  {
   "cell_type": "code",
   "execution_count": null,
   "id": "6e651552",
   "metadata": {},
   "outputs": [],
   "source": [
    "#Big"
   ]
  }
 ],
 "metadata": {
  "kernelspec": {
   "display_name": "Python 3 (ipykernel)",
   "language": "python",
   "name": "python3"
  },
  "language_info": {
   "codemirror_mode": {
    "name": "ipython",
    "version": 3
   },
   "file_extension": ".py",
   "mimetype": "text/x-python",
   "name": "python",
   "nbconvert_exporter": "python",
   "pygments_lexer": "ipython3",
   "version": "3.10.9"
  }
 },
 "nbformat": 4,
 "nbformat_minor": 5
}
