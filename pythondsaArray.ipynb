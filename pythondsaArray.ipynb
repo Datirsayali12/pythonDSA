{
 "cells": [
  {
   "cell_type": "markdown",
   "id": "6baedf54",
   "metadata": {},
   "source": [
    "# 1D array creation using array:"
   ]
  },
  {
   "cell_type": "code",
   "execution_count": 1,
   "id": "f74a45e7",
   "metadata": {},
   "outputs": [
    {
     "name": "stdout",
     "output_type": "stream",
     "text": [
      "array('i', [1, 2, 3, 4, 5])\n"
     ]
    }
   ],
   "source": [
    "#create array\n",
    "import array as a\n",
    "m1=a.array('i',[1,2,3,4,5])\n",
    "print(m1)"
   ]
  },
  {
   "cell_type": "code",
   "execution_count": 2,
   "id": "7074cf38",
   "metadata": {},
   "outputs": [
    {
     "data": {
      "text/plain": [
       "array([1, 2, 3])"
      ]
     },
     "execution_count": 2,
     "metadata": {},
     "output_type": "execute_result"
    }
   ],
   "source": [
    "#using numpy\n",
    "import numpy as np\n",
    "a1=np.array([1,2,3],dtype=int)\n",
    "a1"
   ]
  },
  {
   "cell_type": "code",
   "execution_count": 3,
   "id": "f41b24fc",
   "metadata": {},
   "outputs": [
    {
     "name": "stdout",
     "output_type": "stream",
     "text": [
      "array('i', [1, 2, 3, 4, 5])\n",
      "element at begin\n",
      "array('i', [100, 1, 2, 3, 4, 5])\n",
      "element at end\n",
      "array('i', [100, 1, 2, 3, 4, 5, 400])\n",
      "insert at specified index\n",
      "Enter index1\n",
      "array('i', [100, 200, 1, 2, 3, 4, 5, 400])\n"
     ]
    }
   ],
   "source": [
    "#insertion in array\n",
    "import array as a\n",
    "a1=a.array('i',[1,2,3,4,5])\n",
    "print(a1)\n",
    "print('element at begin')\n",
    "a1.insert(0,100)\n",
    "print(a1)\n",
    "print('element at end')\n",
    "a1.insert(len(a1),400)\n",
    "print(a1)\n",
    "\n",
    "print('insert at specified index')\n",
    "i=int(input('Enter index'))\n",
    "a1.insert(i,200)\n",
    "\n",
    "\n",
    "print(a1)"
   ]
  },
  {
   "cell_type": "code",
   "execution_count": 4,
   "id": "41d21077",
   "metadata": {},
   "outputs": [
    {
     "name": "stdout",
     "output_type": "stream",
     "text": [
      "100\n",
      "200\n",
      "1\n",
      "2\n",
      "3\n",
      "4\n",
      "5\n",
      "400\n"
     ]
    }
   ],
   "source": [
    "#Array Traversal\n",
    "#time complexity O(n)\n",
    "#space complexity:o(1)\n",
    "for i in a1:\n",
    "    print(i)"
   ]
  },
  {
   "cell_type": "code",
   "execution_count": 5,
   "id": "8fc6f301",
   "metadata": {},
   "outputs": [
    {
     "name": "stdout",
     "output_type": "stream",
     "text": [
      "Enter index of element \n",
      "1\n",
      "200\n"
     ]
    }
   ],
   "source": [
    "#access array elements:\n",
    "print('Enter index of element ')\n",
    "n=int(input())\n",
    "if n<=len(a1):\n",
    "    print(a1[n])"
   ]
  },
  {
   "cell_type": "code",
   "execution_count": 6,
   "id": "084eb213",
   "metadata": {},
   "outputs": [
    {
     "name": "stdout",
     "output_type": "stream",
     "text": [
      "Enter the element to find1\n",
      "element present at: 0\n"
     ]
    }
   ],
   "source": [
    "#serching in array\n",
    "import array as a\n",
    "\n",
    "def search(arr,t):\n",
    "    for i in range(len(a1)):\n",
    "        if arr[i]==n:\n",
    "            return i\n",
    "    return -1\n",
    "       \n",
    "a1=a.array('i',[1,2,3,4,6,7,8])\n",
    "n=int(input('Enter the element to find'))\n",
    "\n",
    "ind=search(a1,n)\n",
    "print('element present at:',ind)\n",
    "\n"
   ]
  },
  {
   "cell_type": "code",
   "execution_count": 7,
   "id": "702bbfdc",
   "metadata": {},
   "outputs": [
    {
     "name": "stdout",
     "output_type": "stream",
     "text": [
      "array('i', [1, 2, 3, 4, 6, 7, 8])\n",
      "Enter element to be remove1\n",
      "array('i', [2, 3, 4, 6, 7, 8])\n"
     ]
    }
   ],
   "source": [
    "#deletion from array\n",
    "print(a1)\n",
    "n=int(input('Enter element to be remove'))\n",
    "a1.remove(n)\n",
    "print(a1)"
   ]
  },
  {
   "cell_type": "code",
   "execution_count": 8,
   "id": "e0b5516c",
   "metadata": {},
   "outputs": [
    {
     "name": "stdout",
     "output_type": "stream",
     "text": [
      "1\n",
      "2\n",
      "3\n",
      "4\n",
      "array('i', [1, 2, 900, 3, 4, 100, 100, 100])\n",
      "array('i', [2, 900, 3, 4, 100, 100])\n",
      "array('i', [100, 100, 4, 3, 900, 2])\n"
     ]
    },
    {
     "data": {
      "text/plain": [
       "2"
      ]
     },
     "execution_count": 8,
     "metadata": {},
     "output_type": "execute_result"
    }
   ],
   "source": [
    "#Array exercise:\n",
    "#1create array and traverse it\n",
    "\n",
    "import array as a\n",
    "a1=a.array('i',[1,2,3,4])\n",
    "for i in a1:\n",
    "    print(i)\n",
    "    \n",
    "#2.insert element by using-append,insert,extend\n",
    "a1.append(100)\n",
    "a1.insert(2,900)\n",
    "a1.extend([100,100])\n",
    "print(a1)\n",
    "\n",
    "#3.remove ele using pop(),remove()\n",
    "a1.pop(0)#index\n",
    "a1.remove(100)\n",
    "print(a1)\n",
    "\n",
    "#4.reverse\n",
    "a1.reverse()\n",
    "print(a1)\n",
    "\n",
    "#5.count frequency element\n",
    "a1.count(100)"
   ]
  },
  {
   "cell_type": "code",
   "execution_count": 9,
   "id": "feb28291",
   "metadata": {},
   "outputs": [
    {
     "name": "stdout",
     "output_type": "stream",
     "text": [
      "array('i', [100, 100, 4, 3, 900, 2, 1, 2, 3, 45, 89])\n"
     ]
    }
   ],
   "source": [
    "#6.add item from list into array\n",
    "l=[1,2,3,45,89]\n",
    "a1.fromlist(l)\n",
    "print(a1)"
   ]
  },
  {
   "cell_type": "code",
   "execution_count": 10,
   "id": "ff38b752",
   "metadata": {},
   "outputs": [
    {
     "name": "stdout",
     "output_type": "stream",
     "text": [
      "(1999772349616, 11)\n"
     ]
    }
   ],
   "source": [
    "#7.get array  buffer information\n",
    "print(a1.buffer_info())"
   ]
  },
  {
   "cell_type": "code",
   "execution_count": 11,
   "id": "986b8199",
   "metadata": {},
   "outputs": [
    {
     "name": "stdout",
     "output_type": "stream",
     "text": [
      "array('i', [100, 100, 4, 3, 900, 2, 1, 2, 3, 45, 89])\n"
     ]
    }
   ],
   "source": [
    "#8.convert array to string\n",
    "strarray=a1.tobytes()\n",
    "a2=a.array('i')\n",
    "\n",
    "#8.add elements from string to array\n",
    "a2.frombytes(strarray)\n",
    "print(a2)"
   ]
  },
  {
   "cell_type": "code",
   "execution_count": null,
   "id": "7cc5bce7",
   "metadata": {},
   "outputs": [],
   "source": [
    "#9.convert array to list\n",
    "print(a1.tolist())"
   ]
  },
  {
   "cell_type": "markdown",
   "id": "cc9074f1",
   "metadata": {},
   "source": [
    "# 2D array:\n",
    "array module not support multidiamensional so we create 2D array with numpy"
   ]
  },
  {
   "cell_type": "code",
   "execution_count": null,
   "id": "5a909837",
   "metadata": {},
   "outputs": [],
   "source": [
    "import numpy as np\n",
    "a1=np.array([[1,2,3,4],\n",
    "            [12,11,23,34],\n",
    "            [3,9,0,10],\n",
    "            [2,1,3,4]])\n",
    "print(a1)"
   ]
  },
  {
   "cell_type": "code",
   "execution_count": null,
   "id": "606cc2f5",
   "metadata": {},
   "outputs": [],
   "source": [
    "#insert element into array\n",
    "np.insert(a1,0,[[0,0,0,0]],axis=1)\n",
    "np.insert(a1,0,[[1,1,1,1]],axis=0)"
   ]
  },
  {
   "cell_type": "code",
   "execution_count": null,
   "id": "ce283a24",
   "metadata": {},
   "outputs": [],
   "source": [
    "#append\n",
    "newarr=np.append(a1,[[100,100,100,100]],axis=0)"
   ]
  },
  {
   "cell_type": "code",
   "execution_count": null,
   "id": "598f4a41",
   "metadata": {},
   "outputs": [],
   "source": [
    "newarr"
   ]
  },
  {
   "cell_type": "code",
   "execution_count": null,
   "id": "d2d88850",
   "metadata": {},
   "outputs": [],
   "source": [
    "#time complexity o(m*n)"
   ]
  },
  {
   "cell_type": "code",
   "execution_count": null,
   "id": "c1317217",
   "metadata": {},
   "outputs": [],
   "source": [
    "#access elements of array:\n",
    "def access(newarr,start,end):\n",
    "    if start>=len(newarr) or end>=len(newarr):\n",
    "        print('incorrect index')\n",
    "    else:\n",
    "        print(newarr[start][end])\n",
    "access(newarr,1,2)"
   ]
  },
  {
   "cell_type": "code",
   "execution_count": null,
   "id": "6cd7d2fc",
   "metadata": {},
   "outputs": [],
   "source": [
    "#traverse\n",
    "for i in range(len(a1)):\n",
    "    for j in range(len(a1)):\n",
    "        print(a1[i][j],end=' ')"
   ]
  },
  {
   "cell_type": "code",
   "execution_count": null,
   "id": "2188c5c7",
   "metadata": {},
   "outputs": [],
   "source": [
    "#searching in 2d array\n",
    "\n",
    "def search(a1,n):\n",
    "    for i in range(len(a1)):\n",
    "        for j in range(len(a1[0])):\n",
    "            if a1[i][j]==n:\n",
    "                return 'present '+str(i)+' '+str(j)\n",
    "    return -1\n",
    "            \n",
    "search(a1,12)"
   ]
  },
  {
   "cell_type": "code",
   "execution_count": null,
   "id": "c3c37500",
   "metadata": {},
   "outputs": [],
   "source": [
    "#time complexity o(mn) "
   ]
  },
  {
   "cell_type": "code",
   "execution_count": null,
   "id": "264a73f9",
   "metadata": {},
   "outputs": [],
   "source": [
    "#deletion on numpy array\n",
    "print(a1)\n",
    "newdel=np.delete(a1,0,axis=0)\n",
    "print(newdel)\n",
    "newdel=np.delete(a1,1,axis=1)\n",
    "print(newdel)"
   ]
  },
  {
   "cell_type": "markdown",
   "id": "33d67ba3",
   "metadata": {},
   "source": [
    "# list"
   ]
  },
  {
   "cell_type": "code",
   "execution_count": null,
   "id": "d96587ac",
   "metadata": {},
   "outputs": [],
   "source": [
    "#create and traverse\n",
    "l=[1,2,'sayali',3,4]\n",
    "for i in l:\n",
    "    print(i)\n"
   ]
  },
  {
   "cell_type": "code",
   "execution_count": null,
   "id": "c15b6550",
   "metadata": {},
   "outputs": [],
   "source": [
    "#access and insert element\n",
    "l1=[1]\n",
    "print(l1[0])#access\n",
    "\n",
    "#3 method of insert-insert,append,extend\n",
    "l1.append('sayali datir')\n",
    "l1.insert(0,200)\n",
    "l1.extend([1,2,3,4])\n",
    "print(l1)"
   ]
  },
  {
   "cell_type": "code",
   "execution_count": null,
   "id": "43f1858e",
   "metadata": {},
   "outputs": [],
   "source": [
    "#remove element\n",
    "#pop,remove,del, clear\n",
    "\n",
    "l1.pop()#last ele\n",
    "l1.pop(2)#specified index\n",
    "l1.remove(1)"
   ]
  },
  {
   "cell_type": "code",
   "execution_count": null,
   "id": "ee600396",
   "metadata": {},
   "outputs": [],
   "source": [
    "l1"
   ]
  },
  {
   "cell_type": "code",
   "execution_count": null,
   "id": "b8a60550",
   "metadata": {},
   "outputs": [],
   "source": [
    "del l1#delete whole structure of list"
   ]
  },
  {
   "cell_type": "code",
   "execution_count": null,
   "id": "1104e0fa",
   "metadata": {},
   "outputs": [],
   "source": [
    "#clear\n",
    "l1=[1,2,3,4]\n",
    "l1.clear()#remove all elements"
   ]
  },
  {
   "cell_type": "code",
   "execution_count": null,
   "id": "47a15634",
   "metadata": {},
   "outputs": [],
   "source": [
    "l1"
   ]
  },
  {
   "cell_type": "code",
   "execution_count": null,
   "id": "8a57b681",
   "metadata": {},
   "outputs": [],
   "source": [
    "#searchin element in list\n",
    "l1=[1,2,3,4,5]\n",
    "print(2 in l1)"
   ]
  },
  {
   "cell_type": "code",
   "execution_count": null,
   "id": "a1fb9594",
   "metadata": {},
   "outputs": [],
   "source": [
    "#list operation and list function\n",
    "#concatination\n",
    "\n",
    "a=[1,2,3,4,5]\n",
    "b=[2,3,4,5,7]\n",
    "print(a+b)"
   ]
  },
  {
   "cell_type": "code",
   "execution_count": null,
   "id": "8c144777",
   "metadata": {},
   "outputs": [],
   "source": [
    "#repeat elements in list\n",
    "l=['sayali']\n",
    "print(l*3)"
   ]
  },
  {
   "cell_type": "code",
   "execution_count": null,
   "id": "c9907ded",
   "metadata": {},
   "outputs": [],
   "source": [
    "#sum,min,max,len\n",
    "l1=[1,2,3,4,5]\n",
    "print(len(l1))\n",
    "print(max(l1))\n",
    "print(min(l1))\n",
    "print(sum(l1))"
   ]
  },
  {
   "cell_type": "code",
   "execution_count": null,
   "id": "617e272e",
   "metadata": {},
   "outputs": [],
   "source": [
    "#list vs array\n",
    "#use array when perform arithematic operation"
   ]
  },
  {
   "cell_type": "code",
   "execution_count": null,
   "id": "eb0bad48",
   "metadata": {},
   "outputs": [],
   "source": [
    "import numpy as np\n",
    "a1=np.array([1,2,3,4,5])\n",
    "print(a1/2)"
   ]
  },
  {
   "cell_type": "code",
   "execution_count": null,
   "id": "cb5ae698",
   "metadata": {},
   "outputs": [],
   "source": [
    "a1=[1,2,3,4,5]\n",
    "print(a1/2)"
   ]
  },
  {
   "cell_type": "code",
   "execution_count": null,
   "id": "e33e4cc7",
   "metadata": {},
   "outputs": [],
   "source": [
    "#list not provide support for the arithematic operations"
   ]
  },
  {
   "cell_type": "code",
   "execution_count": null,
   "id": "cf1bc6e7",
   "metadata": {},
   "outputs": [],
   "source": [
    "list                                     array\n",
    "1.different data type                  1.same datatype\n",
    "2.not provide arithematic              2.provide  arithematic operation support\n",
    "operation support"
   ]
  },
  {
   "cell_type": "code",
   "execution_count": null,
   "id": "525ee01e",
   "metadata": {},
   "outputs": [],
   "source": [
    "l1=[1,2,3,4,5]\n",
    "l2=l1\n",
    "l2[0]=100\n",
    "print(l1)\n",
    "print(l2)\n"
   ]
  },
  {
   "cell_type": "code",
   "execution_count": null,
   "id": "b985b3e5",
   "metadata": {},
   "outputs": [],
   "source": [
    "fruit_list1 = ['Apple', 'Berry', 'Cherry', 'Papaya']\n",
    "fruit_list2 = fruit_list1\n",
    "fruit_list3 = fruit_list1[:]\n",
    "\n",
    "\n",
    " \n",
    "fruit_list2[0] = 'Guava'\n",
    "fruit_list3[1] = 'Kiwi'\n",
    "print(fruit_list2)\n",
    "print(fruit_list3 )\n",
    "print(fruit_list1)\n",
    " \n",
    "sum = 0\n",
    "for ls in (fruit_list1, fruit_list2, fruit_list3):\n",
    "    if ls[0] == 'Guava':\n",
    "        sum += 1\n",
    "    if ls[1] == 'Kiwi':\n",
    "        sum += 20\n",
    " \n",
    "print(sum)"
   ]
  },
  {
   "cell_type": "code",
   "execution_count": null,
   "id": "b727eefe",
   "metadata": {},
   "outputs": [],
   "source": [
    "#shuffle\n",
    "import random\n",
    "l=['a','b','c','d']\n",
    "random.shuffle(l)\n",
    "print(l)"
   ]
  },
  {
   "cell_type": "code",
   "execution_count": null,
   "id": "978963aa",
   "metadata": {},
   "outputs": [],
   "source": []
  },
  {
   "cell_type": "code",
   "execution_count": null,
   "id": "d928bf30",
   "metadata": {},
   "outputs": [],
   "source": []
  }
 ],
 "metadata": {
  "kernelspec": {
   "display_name": "Python 3 (ipykernel)",
   "language": "python",
   "name": "python3"
  },
  "language_info": {
   "codemirror_mode": {
    "name": "ipython",
    "version": 3
   },
   "file_extension": ".py",
   "mimetype": "text/x-python",
   "name": "python",
   "nbconvert_exporter": "python",
   "pygments_lexer": "ipython3",
   "version": "3.10.9"
  }
 },
 "nbformat": 4,
 "nbformat_minor": 5
}
